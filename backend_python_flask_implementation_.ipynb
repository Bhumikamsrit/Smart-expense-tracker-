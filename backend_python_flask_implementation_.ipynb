{
  "nbformat": 4,
  "nbformat_minor": 0,
  "metadata": {
    "colab": {
      "provenance": []
    },
    "kernelspec": {
      "name": "python3",
      "display_name": "Python 3"
    },
    "language_info": {
      "name": "python"
    }
  },
  "cells": [
    {
      "cell_type": "code",
      "execution_count": null,
      "metadata": {
        "id": "ys7qF8mHlTYT"
      },
      "outputs": [],
      "source": [
        "from flask import Flask, request, render_template\n",
        "import os\n",
        "\n",
        "app = Flask(__name__)\n",
        "\n",
        "# File to store data\n",
        "data_file = 'data.txt'\n",
        "\n",
        "# Load data from the file\n",
        "def load_data():\n",
        "    if os.path.exists(data_file):\n",
        "        with open(data_file, 'r') as f:\n",
        "            content = f.read().strip().split('\\n')\n",
        "            if len(content) == 2:\n",
        "                budget = float(content[0])\n",
        "                expenses = float(content[1])\n",
        "                return budget, expenses\n",
        "    return 0, 0\n",
        "\n",
        "# Save data to the file\n",
        "def save_data(budget, expenses):\n",
        "    with open(data_file, 'w') as f:\n",
        "        f.write(f\"{budget}\\n{expenses}\")\n",
        "\n",
        "# Route to render HTML page\n",
        "@app.route('/')\n",
        "def index():\n",
        "    return render_template('index.html')\n",
        "\n",
        "# API to get current data\n",
        "@app.route('/get_data', methods=['GET'])\n",
        "def get_data():\n",
        "    budget, expenses = load_data()\n",
        "    remaining_balance = budget - expenses\n",
        "    return f\"Budget: {budget}\\nTotal Expenses: {expenses}\\nRemaining Balance: {remaining_balance}\"\n",
        "\n",
        "# API to set a new budget\n",
        "@app.route('/set_budget', methods=['POST'])\n",
        "def set_budget():\n",
        "    new_budget = float(request.form['budget'])\n",
        "    _, expenses = load_data()\n",
        "    save_data(new_budget, expenses)\n",
        "    return f\"Budget updated to {new_budget}\"\n",
        "\n",
        "# API to add an expense\n",
        "@app.route('/add_expense', methods=['POST'])\n",
        "def add_expense():\n",
        "    expense_amount = float(request.form['amount'])\n",
        "    budget, expenses = load_data()\n",
        "    new_expenses = expenses + expense_amount\n",
        "    save_data(budget, new_expenses)\n",
        "    remaining_balance = budget - new_expenses\n",
        "    return f\"Expense of {expense_amount} added. Total Expenses: {new_expenses}\\nRemaining Balance: {remaining_balance}\"\n",
        "\n",
        "if __name__ == '__main__':\n",
        "    app.run(debug=True)\n"
      ]
    }
  ]
}